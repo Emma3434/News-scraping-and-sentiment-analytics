{
 "cells": [
  {
   "cell_type": "markdown",
   "metadata": {},
   "source": [
    "## Code reference:\n",
    "* News scraping\n",
    "    - http://theautomatic.net/2020/08/05/how-to-scrape-news-articles-with-python/\n",
    "    - https://newspaper.readthedocs.io/en/latest/\n",
    "    - https://github.com/miguelfzafra/Latest-News-Classifier\n",
    "* VADER code reference: \n",
    "    - https://towardsdatascience.com/sentimental-analysis-using-vader-a3415fef7664"
   ]
  },
  {
   "cell_type": "code",
   "execution_count": 1,
   "metadata": {},
   "outputs": [
    {
     "name": "stderr",
     "output_type": "stream",
     "text": [
      "[nltk_data] Downloading package vader_lexicon to\n",
      "[nltk_data]     C:\\Users\\lemon\\AppData\\Roaming\\nltk_data...\n",
      "[nltk_data]   Package vader_lexicon is already up-to-date!\n"
     ]
    }
   ],
   "source": [
    "# Import modules\n",
    "import newspaper\n",
    "from newspaper import Article\n",
    "import requests\n",
    "from bs4 import BeautifulSoup\n",
    "\n",
    "import pandas as pd\n",
    "import numpy as np\n",
    "\n",
    "from __future__ import (absolute_import, division, print_function, unicode_literals)\n",
    "import backtrader as bt\n",
    "import backtrader.indicators as btind\n",
    "import datetime\n",
    "import os.path\n",
    "import sys\n",
    "\n",
    "\n",
    "import nltk\n",
    "nltk.download('vader_lexicon')\n",
    "from nltk.sentiment.vader import SentimentIntensityAnalyzer\n",
    "\n",
    "sid = SentimentIntensityAnalyzer()"
   ]
  },
  {
   "cell_type": "markdown",
   "metadata": {},
   "source": [
    "# News scraping"
   ]
  },
  {
   "cell_type": "code",
   "execution_count": 2,
   "metadata": {},
   "outputs": [],
   "source": [
    "#source = \"Bing news\"\n",
    "source = \"CNN\""
   ]
  },
  {
   "cell_type": "code",
   "execution_count": 5,
   "metadata": {},
   "outputs": [],
   "source": [
    "def news_scraping(source):\n",
    "    if (source == \"Bing news\"):\n",
    "        # Request\n",
    "        source_url = \"https://www.bing.com/news\"\n",
    "        req = requests.get(source_url)\n",
    "\n",
    "        # Get the content on the page\n",
    "        page = req.content\n",
    "        # Soup creation\n",
    "        soup = BeautifulSoup(page, 'html5lib')\n",
    "\n",
    "        # News identification\n",
    "        news = soup.find_all('a', class_ = 'title')\n",
    "        num_articles = 10\n",
    "\n",
    "        articles = []\n",
    "        titles = []\n",
    "        authors = []\n",
    "        dates = []\n",
    "        texts = []\n",
    "\n",
    "        # Get news links and build article\n",
    "        article_list = []\n",
    "        for i in np.arange(0, num_articles):\n",
    "            if (news[i]['href'] != ''):\n",
    "                # Get the link for the news article\n",
    "                link= news[i]['href']\n",
    "                article = Article(link)\n",
    "                article_list.append(article)\n",
    "\n",
    "        for i in range(0,len(article_list)):\n",
    "            # Select the article wanted and download\n",
    "            article = article_list[i]\n",
    "            article.download()\n",
    "            # Parse the html and ppend the new article to the list \n",
    "            article.parse()\n",
    "            titles.append(article.title)\n",
    "            authors.append(article.authors)\n",
    "            dates.append(article.publish_date)\n",
    "            texts.append(article.text)\n",
    "\n",
    "        df = pd.DataFrame({\n",
    "            'Title': titles,\n",
    "            'Authors': authors,\n",
    "            'dates': dates,\n",
    "            'Text': texts,\n",
    "        })\n",
    "    elif (source == \"CNN\"):\n",
    "        source_url = \"http://cnn.com\"\n",
    "        source = newspaper.build(source_url)\n",
    "        titles = []\n",
    "        authors = []\n",
    "        dates = []\n",
    "        texts = []\n",
    "        for article in source.articles:\n",
    "            # Select the article wanted and download\n",
    "            article.download()\n",
    "            # Parse the html\n",
    "            article.parse()\n",
    "            titles.append(article.title)\n",
    "            authors.append(article.authors)\n",
    "            dates.append(article.publish_date)\n",
    "            texts.append(article.text)\n",
    "        df = pd.DataFrame({\n",
    "            'Title': titles,\n",
    "            'Authors': authors,\n",
    "            'dates': dates,\n",
    "            'Text': texts,\n",
    "        })\n",
    "    else:\n",
    "        print(\"Unrecognized news source\")"
   ]
  },
  {
   "cell_type": "code",
   "execution_count": 7,
   "metadata": {},
   "outputs": [],
   "source": [
    "source_url = \"http://cnn.com\"\n",
    "source = newspaper.build(source_url)\n",
    "titles = []\n",
    "authors = []\n",
    "dates = []\n",
    "texts = []\n",
    "for article in source.articles:\n",
    "    # Select the article wanted and download\n",
    "    article.download()\n",
    "    # Parse the html\n",
    "    article.parse()\n",
    "    titles.append(article.title)\n",
    "    authors.append(article.authors)\n",
    "    dates.append(article.publish_date)\n",
    "    texts.append(article.text)\n",
    "df = pd.DataFrame({\n",
    "    'Title': titles,\n",
    "    'Authors': authors,\n",
    "    'dates': dates,\n",
    "    'Text': texts,\n",
    "})"
   ]
  },
  {
   "cell_type": "code",
   "execution_count": 8,
   "metadata": {},
   "outputs": [
    {
     "data": {
      "text/html": [
       "<div>\n",
       "<style scoped>\n",
       "    .dataframe tbody tr th:only-of-type {\n",
       "        vertical-align: middle;\n",
       "    }\n",
       "\n",
       "    .dataframe tbody tr th {\n",
       "        vertical-align: top;\n",
       "    }\n",
       "\n",
       "    .dataframe thead th {\n",
       "        text-align: right;\n",
       "    }\n",
       "</style>\n",
       "<table border=\"1\" class=\"dataframe\">\n",
       "  <thead>\n",
       "    <tr style=\"text-align: right;\">\n",
       "      <th></th>\n",
       "      <th>Title</th>\n",
       "      <th>Authors</th>\n",
       "      <th>dates</th>\n",
       "      <th>Text</th>\n",
       "    </tr>\n",
       "  </thead>\n",
       "  <tbody>\n",
       "  </tbody>\n",
       "</table>\n",
       "</div>"
      ],
      "text/plain": [
       "Empty DataFrame\n",
       "Columns: [Title, Authors, dates, Text]\n",
       "Index: []"
      ]
     },
     "execution_count": 8,
     "metadata": {},
     "output_type": "execute_result"
    }
   ],
   "source": [
    "df"
   ]
  },
  {
   "cell_type": "markdown",
   "metadata": {},
   "source": [
    "# VADER analysis"
   ]
  },
  {
   "cell_type": "markdown",
   "metadata": {},
   "source": [
    "## Train the model"
   ]
  },
  {
   "cell_type": "code",
   "execution_count": null,
   "metadata": {},
   "outputs": [],
   "source": [
    "df['scores'] = df['Text'].apply(lambda review:sid.polarity_scores(review))\n",
    "df['compound']  = df['scores'].apply(lambda score_dict:score_dict['compound'])\n",
    "df['comp_score'] = df['compound'].apply(lambda c: 'pos' if c >=0 else 'neg')\n",
    "\n",
    "df.head()"
   ]
  },
  {
   "cell_type": "markdown",
   "metadata": {},
   "source": [
    "# Use the model"
   ]
  },
  {
   "cell_type": "code",
   "execution_count": null,
   "metadata": {},
   "outputs": [],
   "source": []
  }
 ],
 "metadata": {
  "kernelspec": {
   "display_name": "Python 3",
   "language": "python",
   "name": "python3"
  },
  "language_info": {
   "codemirror_mode": {
    "name": "ipython",
    "version": 3
   },
   "file_extension": ".py",
   "mimetype": "text/x-python",
   "name": "python",
   "nbconvert_exporter": "python",
   "pygments_lexer": "ipython3",
   "version": "3.8.5"
  }
 },
 "nbformat": 4,
 "nbformat_minor": 4
}
