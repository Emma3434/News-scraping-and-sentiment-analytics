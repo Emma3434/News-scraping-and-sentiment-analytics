{
 "cells": [
  {
   "cell_type": "markdown",
   "metadata": {},
   "source": [
    "## Code reference:\n",
    "* News scraping\n",
    "    - http://theautomatic.net/2020/08/05/how-to-scrape-news-articles-with-python/\n",
    "    - https://newspaper.readthedocs.io/en/latest/\n",
    "    - https://github.com/miguelfzafra/Latest-News-Classifier\n",
    "* VADER code reference: \n",
    "    - https://towardsdatascience.com/sentimental-analysis-using-vader-a3415fef7664"
   ]
  },
  {
   "cell_type": "code",
   "execution_count": 5,
   "metadata": {},
   "outputs": [],
   "source": [
    "# Import modules\n",
    "import newspaper\n",
    "from newspaper import Article\n",
    "import requests\n",
    "from bs4 import BeautifulSoup\n",
    "\n",
    "import pandas as pd\n",
    "import numpy as np\n",
    "\n",
    "from __future__ import (absolute_import, division, print_function, unicode_literals)\n",
    "import backtrader as bt\n",
    "import backtrader.indicators as btind\n",
    "import datetime\n",
    "import os.path\n",
    "import sys\n",
    "\n",
    "import time\n",
    "import nltk\n",
    "from nltk.sentiment.vader import SentimentIntensityAnalyzer\n",
    "\n",
    "sid = SentimentIntensityAnalyzer()"
   ]
  },
  {
   "cell_type": "markdown",
   "metadata": {},
   "source": [
    "# News scraping"
   ]
  },
  {
   "cell_type": "code",
   "execution_count": 6,
   "metadata": {},
   "outputs": [],
   "source": [
    "titles = []\n",
    "authors = []\n",
    "dates = []\n",
    "texts = []"
   ]
  },
  {
   "cell_type": "code",
   "execution_count": 7,
   "metadata": {},
   "outputs": [
    {
     "data": {
      "text/plain": [
       "<newspaper.source.Source at 0x1423010e460>"
      ]
     },
     "execution_count": 7,
     "metadata": {},
     "output_type": "execute_result"
    }
   ],
   "source": [
    "source_url = \"https://www.cnn.com\"\n",
    "source = newspaper.build(source_url)\n",
    "source"
   ]
  },
  {
   "cell_type": "code",
   "execution_count": 8,
   "metadata": {},
   "outputs": [],
   "source": [
    "article = source.articles[0]\n",
    "article.download()"
   ]
  },
  {
   "cell_type": "code",
   "execution_count": 9,
   "metadata": {},
   "outputs": [
    {
     "data": {
      "text/plain": [
       "'https://cnnespanol.cnn.com/video/cheque-de-estimulo-cuando-lo-recibire-quienes-recibiran-primero-pagos-stimulus-lklv-cnn-dinero/'"
      ]
     },
     "execution_count": 9,
     "metadata": {},
     "output_type": "execute_result"
    }
   ],
   "source": [
    "article.parse()\n",
    "article.url"
   ]
  },
  {
   "cell_type": "code",
   "execution_count": 10,
   "metadata": {},
   "outputs": [
    {
     "data": {
      "text/html": [
       "<div>\n",
       "<style scoped>\n",
       "    .dataframe tbody tr th:only-of-type {\n",
       "        vertical-align: middle;\n",
       "    }\n",
       "\n",
       "    .dataframe tbody tr th {\n",
       "        vertical-align: top;\n",
       "    }\n",
       "\n",
       "    .dataframe thead th {\n",
       "        text-align: right;\n",
       "    }\n",
       "</style>\n",
       "<table border=\"1\" class=\"dataframe\">\n",
       "  <thead>\n",
       "    <tr style=\"text-align: right;\">\n",
       "      <th></th>\n",
       "      <th>Title</th>\n",
       "      <th>Authors</th>\n",
       "      <th>dates</th>\n",
       "      <th>Text</th>\n",
       "    </tr>\n",
       "  </thead>\n",
       "  <tbody>\n",
       "    <tr>\n",
       "      <th>0</th>\n",
       "      <td>Nuevos cheques de estímulo empezarán a entrega...</td>\n",
       "      <td>[]</td>\n",
       "      <td>2021-03-12</td>\n",
       "      <td>Los estadounidenses podrían recibir sus nuevos...</td>\n",
       "    </tr>\n",
       "    <tr>\n",
       "      <th>1</th>\n",
       "      <td>Italia tendrá viajes en tren «libres de covid»...</td>\n",
       "      <td>[]</td>\n",
       "      <td>2021-03-12</td>\n",
       "      <td>Trenes libres de coronavirus es el nuevo conce...</td>\n",
       "    </tr>\n",
       "  </tbody>\n",
       "</table>\n",
       "</div>"
      ],
      "text/plain": [
       "                                               Title Authors      dates  \\\n",
       "0  Nuevos cheques de estímulo empezarán a entrega...      [] 2021-03-12   \n",
       "1  Italia tendrá viajes en tren «libres de covid»...      [] 2021-03-12   \n",
       "\n",
       "                                                Text  \n",
       "0  Los estadounidenses podrían recibir sus nuevos...  \n",
       "1  Trenes libres de coronavirus es el nuevo conce...  "
      ]
     },
     "execution_count": 10,
     "metadata": {},
     "output_type": "execute_result"
    }
   ],
   "source": [
    "for article in source.articles:\n",
    "    # Select the article wanted and download\n",
    "    article.download()\n",
    "    # Parse the html\n",
    "    article.parse()\n",
    "    titles.append(article.title)\n",
    "    authors.append(article.authors)\n",
    "    dates.append(article.publish_date)\n",
    "    texts.append(article.text)\n",
    "    time.sleep(3)\n",
    "df = pd.DataFrame({\n",
    "    'Title': titles,\n",
    "    'Authors': authors,\n",
    "    'dates': dates,\n",
    "    'Text': texts,\n",
    "})\n",
    "df"
   ]
  },
  {
   "cell_type": "code",
   "execution_count": 26,
   "metadata": {},
   "outputs": [
    {
     "data": {
      "text/plain": [
       "200"
      ]
     },
     "execution_count": 26,
     "metadata": {},
     "output_type": "execute_result"
    }
   ],
   "source": [
    "# Request\n",
    "source_url = \"https://www.cnn.com/\"\n",
    "req = requests.get(source_url)\n",
    "req.status_code"
   ]
  },
  {
   "cell_type": "code",
   "execution_count": 27,
   "metadata": {},
   "outputs": [],
   "source": [
    "# Get the content on the page\n",
    "page = req.content\n",
    "# Soup creation\n",
    "soup = BeautifulSoup(page, 'html5lib')"
   ]
  },
  {
   "cell_type": "code",
   "execution_count": 28,
   "metadata": {},
   "outputs": [],
   "source": [
    "# News identification\n",
    "news = soup.find_all('a', class_ = 'title')\n",
    "num_articles = 10\n",
    "\n",
    "articles = []\n",
    "titles = []\n",
    "authors = []\n",
    "dates = []\n",
    "texts = []"
   ]
  },
  {
   "cell_type": "code",
   "execution_count": 15,
   "metadata": {},
   "outputs": [
    {
     "name": "stdout",
     "output_type": "stream",
     "text": [
      "https://www.msn.com/en-us/news/us/probe-faults-mayor-officials-for-keeping-prude-death-secret/ar-BB1ewLKk?ocid=BingNews\n"
     ]
    }
   ],
   "source": [
    "# Get news links and build article\n",
    "article_list = []\n",
    "for i in np.arange(0, num_articles):\n",
    "    if (news[i]['href'] != ''):\n",
    "        # Get the link for the news article\n",
    "        link= news[i]['href']\n",
    "print(link)\n"
   ]
  },
  {
   "cell_type": "code",
   "execution_count": 16,
   "metadata": {},
   "outputs": [],
   "source": [
    "article = Article(link)\n",
    "article_list.append(article)"
   ]
  },
  {
   "cell_type": "code",
   "execution_count": 19,
   "metadata": {},
   "outputs": [],
   "source": [
    "article.download()"
   ]
  },
  {
   "cell_type": "code",
   "execution_count": 22,
   "metadata": {},
   "outputs": [],
   "source": [
    "article.parse()\n",
    "article.publish_date"
   ]
  },
  {
   "cell_type": "code",
   "execution_count": 21,
   "metadata": {},
   "outputs": [],
   "source": [
    "\n",
    "\n",
    "for i in range(0,len(article_list)):\n",
    "    # Select the article wanted and download\n",
    "    article = article_list[i]\n",
    "    time.sleep(2)\n",
    "    article.download()\n",
    "    # Parse the html and ppend the new article to the list \n",
    "    article.parse()\n",
    "    titles.append(article.title)\n",
    "    authors.append(article.authors)\n",
    "    dates.append(article.publish_date)\n",
    "    texts.append(article.text)"
   ]
  },
  {
   "cell_type": "code",
   "execution_count": 22,
   "metadata": {},
   "outputs": [],
   "source": [
    "df = pd.DataFrame({\n",
    "    'Title': titles,\n",
    "    'Authors': authors,\n",
    "    'dates': dates,\n",
    "    'Text': texts,\n",
    "})"
   ]
  },
  {
   "cell_type": "code",
   "execution_count": 23,
   "metadata": {},
   "outputs": [
    {
     "data": {
      "text/html": [
       "<div>\n",
       "<style scoped>\n",
       "    .dataframe tbody tr th:only-of-type {\n",
       "        vertical-align: middle;\n",
       "    }\n",
       "\n",
       "    .dataframe tbody tr th {\n",
       "        vertical-align: top;\n",
       "    }\n",
       "\n",
       "    .dataframe thead th {\n",
       "        text-align: right;\n",
       "    }\n",
       "</style>\n",
       "<table border=\"1\" class=\"dataframe\">\n",
       "  <thead>\n",
       "    <tr style=\"text-align: right;\">\n",
       "      <th></th>\n",
       "      <th>Title</th>\n",
       "      <th>Authors</th>\n",
       "      <th>dates</th>\n",
       "      <th>Text</th>\n",
       "    </tr>\n",
       "  </thead>\n",
       "  <tbody>\n",
       "    <tr>\n",
       "      <th>0</th>\n",
       "      <td>Chuck Schumer joins congressional Democrats' c...</td>\n",
       "      <td>[]</td>\n",
       "      <td>None</td>\n",
       "      <td>© Chip Somodevilla/Getty Images WASHINGTON, DC...</td>\n",
       "    </tr>\n",
       "    <tr>\n",
       "      <th>1</th>\n",
       "      <td>U.S. grants Myanmar nationals relief from depo...</td>\n",
       "      <td>[]</td>\n",
       "      <td>None</td>\n",
       "      <td>By Simon Lewis\\n\\nWASHINGTON (Reuters) - The B...</td>\n",
       "    </tr>\n",
       "    <tr>\n",
       "      <th>2</th>\n",
       "      <td>Harry and Meghan's seismic interview will be f...</td>\n",
       "      <td>[]</td>\n",
       "      <td>None</td>\n",
       "      <td>© Harpo Productions/Joe Pugliese/Getty Images ...</td>\n",
       "    </tr>\n",
       "    <tr>\n",
       "      <th>3</th>\n",
       "      <td>Georgetown law professor terminated after rema...</td>\n",
       "      <td>[]</td>\n",
       "      <td>None</td>\n",
       "      <td>A Georgetown Law School professor has been ter...</td>\n",
       "    </tr>\n",
       "    <tr>\n",
       "      <th>4</th>\n",
       "      <td>After Biden stimulus, US economic growth could...</td>\n",
       "      <td>[]</td>\n",
       "      <td>None</td>\n",
       "      <td>© Chris Kleponis/CNP/Bloomberg/Getty Images U....</td>\n",
       "    </tr>\n",
       "    <tr>\n",
       "      <th>5</th>\n",
       "      <td>The stimulus bill's target: Working and middle...</td>\n",
       "      <td>[]</td>\n",
       "      <td>None</td>\n",
       "      <td>© Getty Images/iStockphoto Stimulus Check in t...</td>\n",
       "    </tr>\n",
       "    <tr>\n",
       "      <th>6</th>\n",
       "      <td>Probe faults mayor, officials for keeping Prud...</td>\n",
       "      <td>[]</td>\n",
       "      <td>None</td>\n",
       "      <td>NEW YORK (AP) — An investigation into the offi...</td>\n",
       "    </tr>\n",
       "    <tr>\n",
       "      <th>7</th>\n",
       "      <td>Farmers of color receive billions in latest st...</td>\n",
       "      <td>[]</td>\n",
       "      <td>None</td>\n",
       "      <td>© ANGELA WEISS US-RACISM-MINORITIES-FARMS\\n\\nT...</td>\n",
       "    </tr>\n",
       "  </tbody>\n",
       "</table>\n",
       "</div>"
      ],
      "text/plain": [
       "                                               Title Authors dates  \\\n",
       "0  Chuck Schumer joins congressional Democrats' c...      []  None   \n",
       "1  U.S. grants Myanmar nationals relief from depo...      []  None   \n",
       "2  Harry and Meghan's seismic interview will be f...      []  None   \n",
       "3  Georgetown law professor terminated after rema...      []  None   \n",
       "4  After Biden stimulus, US economic growth could...      []  None   \n",
       "5  The stimulus bill's target: Working and middle...      []  None   \n",
       "6  Probe faults mayor, officials for keeping Prud...      []  None   \n",
       "7  Farmers of color receive billions in latest st...      []  None   \n",
       "\n",
       "                                                Text  \n",
       "0  © Chip Somodevilla/Getty Images WASHINGTON, DC...  \n",
       "1  By Simon Lewis\\n\\nWASHINGTON (Reuters) - The B...  \n",
       "2  © Harpo Productions/Joe Pugliese/Getty Images ...  \n",
       "3  A Georgetown Law School professor has been ter...  \n",
       "4  © Chris Kleponis/CNP/Bloomberg/Getty Images U....  \n",
       "5  © Getty Images/iStockphoto Stimulus Check in t...  \n",
       "6  NEW YORK (AP) — An investigation into the offi...  \n",
       "7  © ANGELA WEISS US-RACISM-MINORITIES-FARMS\\n\\nT...  "
      ]
     },
     "execution_count": 23,
     "metadata": {},
     "output_type": "execute_result"
    }
   ],
   "source": [
    "df"
   ]
  },
  {
   "cell_type": "markdown",
   "metadata": {},
   "source": [
    "# VADER analysis"
   ]
  },
  {
   "cell_type": "markdown",
   "metadata": {},
   "source": [
    "## Train the model"
   ]
  },
  {
   "cell_type": "code",
   "execution_count": 24,
   "metadata": {},
   "outputs": [
    {
     "data": {
      "text/html": [
       "<div>\n",
       "<style scoped>\n",
       "    .dataframe tbody tr th:only-of-type {\n",
       "        vertical-align: middle;\n",
       "    }\n",
       "\n",
       "    .dataframe tbody tr th {\n",
       "        vertical-align: top;\n",
       "    }\n",
       "\n",
       "    .dataframe thead th {\n",
       "        text-align: right;\n",
       "    }\n",
       "</style>\n",
       "<table border=\"1\" class=\"dataframe\">\n",
       "  <thead>\n",
       "    <tr style=\"text-align: right;\">\n",
       "      <th></th>\n",
       "      <th>Title</th>\n",
       "      <th>Authors</th>\n",
       "      <th>dates</th>\n",
       "      <th>Text</th>\n",
       "      <th>scores</th>\n",
       "      <th>compound</th>\n",
       "      <th>comp_score</th>\n",
       "    </tr>\n",
       "  </thead>\n",
       "  <tbody>\n",
       "    <tr>\n",
       "      <th>0</th>\n",
       "      <td>Chuck Schumer joins congressional Democrats' c...</td>\n",
       "      <td>[]</td>\n",
       "      <td>None</td>\n",
       "      <td>© Chip Somodevilla/Getty Images WASHINGTON, DC...</td>\n",
       "      <td>{'neg': 0.114, 'neu': 0.803, 'pos': 0.083, 'co...</td>\n",
       "      <td>-0.9939</td>\n",
       "      <td>neg</td>\n",
       "    </tr>\n",
       "    <tr>\n",
       "      <th>1</th>\n",
       "      <td>U.S. grants Myanmar nationals relief from depo...</td>\n",
       "      <td>[]</td>\n",
       "      <td>None</td>\n",
       "      <td>By Simon Lewis\\n\\nWASHINGTON (Reuters) - The B...</td>\n",
       "      <td>{'neg': 0.084, 'neu': 0.798, 'pos': 0.118, 'co...</td>\n",
       "      <td>0.8488</td>\n",
       "      <td>pos</td>\n",
       "    </tr>\n",
       "    <tr>\n",
       "      <th>2</th>\n",
       "      <td>Harry and Meghan's seismic interview will be f...</td>\n",
       "      <td>[]</td>\n",
       "      <td>None</td>\n",
       "      <td>© Harpo Productions/Joe Pugliese/Getty Images ...</td>\n",
       "      <td>{'neg': 0.063, 'neu': 0.869, 'pos': 0.068, 'co...</td>\n",
       "      <td>0.8333</td>\n",
       "      <td>pos</td>\n",
       "    </tr>\n",
       "    <tr>\n",
       "      <th>3</th>\n",
       "      <td>Georgetown law professor terminated after rema...</td>\n",
       "      <td>[]</td>\n",
       "      <td>None</td>\n",
       "      <td>A Georgetown Law School professor has been ter...</td>\n",
       "      <td>{'neg': 0.105, 'neu': 0.836, 'pos': 0.06, 'com...</td>\n",
       "      <td>-0.9800</td>\n",
       "      <td>neg</td>\n",
       "    </tr>\n",
       "    <tr>\n",
       "      <th>4</th>\n",
       "      <td>After Biden stimulus, US economic growth could...</td>\n",
       "      <td>[]</td>\n",
       "      <td>None</td>\n",
       "      <td>© Chris Kleponis/CNP/Bloomberg/Getty Images U....</td>\n",
       "      <td>{'neg': 0.04, 'neu': 0.839, 'pos': 0.121, 'com...</td>\n",
       "      <td>0.9976</td>\n",
       "      <td>pos</td>\n",
       "    </tr>\n",
       "  </tbody>\n",
       "</table>\n",
       "</div>"
      ],
      "text/plain": [
       "                                               Title Authors dates  \\\n",
       "0  Chuck Schumer joins congressional Democrats' c...      []  None   \n",
       "1  U.S. grants Myanmar nationals relief from depo...      []  None   \n",
       "2  Harry and Meghan's seismic interview will be f...      []  None   \n",
       "3  Georgetown law professor terminated after rema...      []  None   \n",
       "4  After Biden stimulus, US economic growth could...      []  None   \n",
       "\n",
       "                                                Text  \\\n",
       "0  © Chip Somodevilla/Getty Images WASHINGTON, DC...   \n",
       "1  By Simon Lewis\\n\\nWASHINGTON (Reuters) - The B...   \n",
       "2  © Harpo Productions/Joe Pugliese/Getty Images ...   \n",
       "3  A Georgetown Law School professor has been ter...   \n",
       "4  © Chris Kleponis/CNP/Bloomberg/Getty Images U....   \n",
       "\n",
       "                                              scores  compound comp_score  \n",
       "0  {'neg': 0.114, 'neu': 0.803, 'pos': 0.083, 'co...   -0.9939        neg  \n",
       "1  {'neg': 0.084, 'neu': 0.798, 'pos': 0.118, 'co...    0.8488        pos  \n",
       "2  {'neg': 0.063, 'neu': 0.869, 'pos': 0.068, 'co...    0.8333        pos  \n",
       "3  {'neg': 0.105, 'neu': 0.836, 'pos': 0.06, 'com...   -0.9800        neg  \n",
       "4  {'neg': 0.04, 'neu': 0.839, 'pos': 0.121, 'com...    0.9976        pos  "
      ]
     },
     "execution_count": 24,
     "metadata": {},
     "output_type": "execute_result"
    }
   ],
   "source": [
    "df['scores'] = df['Text'].apply(lambda review:sid.polarity_scores(review))\n",
    "df['compound']  = df['scores'].apply(lambda score_dict:score_dict['compound'])\n",
    "df['comp_score'] = df['compound'].apply(lambda c: 'pos' if c >=0 else 'neg')\n",
    "\n",
    "df.head()"
   ]
  },
  {
   "cell_type": "markdown",
   "metadata": {},
   "source": [
    "# Use the model"
   ]
  },
  {
   "cell_type": "code",
   "execution_count": null,
   "metadata": {},
   "outputs": [],
   "source": []
  },
  {
   "cell_type": "markdown",
   "metadata": {},
   "source": [
    "def news_scraping(source):\n",
    "    if (source == \"Bing news\"):\n",
    "        # Request\n",
    "        source_url = \"https://www.bing.com/news\"\n",
    "        req = requests.get(source_url)\n",
    "\n",
    "        # Get the content on the page\n",
    "        page = req.content\n",
    "        # Soup creation\n",
    "        soup = BeautifulSoup(page, 'html5lib')\n",
    "\n",
    "        # News identification\n",
    "        news = soup.find_all('a', class_ = 'title')\n",
    "        num_articles = 10\n",
    "\n",
    "        articles = []\n",
    "        titles = []\n",
    "        authors = []\n",
    "        dates = []\n",
    "        texts = []\n",
    "\n",
    "        # Get news links and build article\n",
    "        article_list = []\n",
    "        for i in np.arange(0, num_articles):\n",
    "            if (news[i]['href'] != ''):\n",
    "                # Get the link for the news article\n",
    "                link= news[i]['href']\n",
    "                article = Article(link)\n",
    "                article_list.append(article)\n",
    "\n",
    "        for i in range(0,len(article_list)):\n",
    "            # Select the article wanted and download\n",
    "            article = article_list[i]\n",
    "            article.download()\n",
    "            # Parse the html and ppend the new article to the list \n",
    "            article.parse()\n",
    "            titles.append(article.title)\n",
    "            authors.append(article.authors)\n",
    "            dates.append(article.publish_date)\n",
    "            texts.append(article.text)\n",
    "\n",
    "        df = pd.DataFrame({\n",
    "            'Title': titles,\n",
    "            'Authors': authors,\n",
    "            'dates': dates,\n",
    "            'Text': texts,\n",
    "        })\n",
    "    elif (source == \"CNN\"):\n",
    "        source_url = \"http://cnn.com\"\n",
    "        source = newspaper.build(source_url)\n",
    "        titles = []\n",
    "        authors = []\n",
    "        dates = []\n",
    "        texts = []\n",
    "        for article in source.articles:\n",
    "            # Select the article wanted and download\n",
    "            article.download()\n",
    "            # Parse the html\n",
    "            article.parse()\n",
    "            titles.append(article.title)\n",
    "            authors.append(article.authors)\n",
    "            dates.append(article.publish_date)\n",
    "            texts.append(article.text)\n",
    "        df = pd.DataFrame({\n",
    "            'Title': titles,\n",
    "            'Authors': authors,\n",
    "            'dates': dates,\n",
    "            'Text': texts,\n",
    "        })\n",
    "    else:\n",
    "        print(\"Unrecognized news source\")"
   ]
  }
 ],
 "metadata": {
  "kernelspec": {
   "display_name": "Python 3",
   "language": "python",
   "name": "python3"
  },
  "language_info": {
   "codemirror_mode": {
    "name": "ipython",
    "version": 3
   },
   "file_extension": ".py",
   "mimetype": "text/x-python",
   "name": "python",
   "nbconvert_exporter": "python",
   "pygments_lexer": "ipython3",
   "version": "3.8.5"
  }
 },
 "nbformat": 4,
 "nbformat_minor": 4
}
