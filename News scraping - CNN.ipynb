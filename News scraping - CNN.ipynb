{
 "cells": [
  {
   "cell_type": "code",
   "execution_count": 1,
   "metadata": {},
   "outputs": [
    {
     "name": "stderr",
     "output_type": "stream",
     "text": [
      "[nltk_data] Downloading package vader_lexicon to\n",
      "[nltk_data]     C:\\Users\\lemon\\AppData\\Roaming\\nltk_data...\n",
      "[nltk_data]   Package vader_lexicon is already up-to-date!\n"
     ]
    }
   ],
   "source": [
    "# Import modules\n",
    "import newspaper\n",
    "from newspaper import Article\n",
    "import requests\n",
    "from bs4 import BeautifulSoup\n",
    "\n",
    "import pandas as pd\n",
    "import numpy as np\n",
    "\n",
    "from __future__ import (absolute_import, division, print_function, unicode_literals)\n",
    "import backtrader as bt\n",
    "import backtrader.indicators as btind\n",
    "import datetime\n",
    "import os.path\n",
    "import sys\n",
    "\n",
    "\n",
    "import nltk\n",
    "nltk.download('vader_lexicon')\n",
    "from nltk.sentiment.vader import SentimentIntensityAnalyzer\n",
    "\n",
    "sid = SentimentIntensityAnalyzer()"
   ]
  },
  {
   "cell_type": "code",
   "execution_count": 2,
   "metadata": {},
   "outputs": [],
   "source": [
    "source_url = \"http://cnn.com\"\n",
    "source = newspaper.build(source_url)\n",
    "titles = []\n",
    "authors = []\n",
    "dates = []\n",
    "texts = []\n",
    "for article in source.articles:\n",
    "    # Select the article wanted and download\n",
    "    article.download()\n",
    "    # Parse the html\n",
    "    article.parse()\n",
    "    titles.append(article.title)\n",
    "    authors.append(article.authors)\n",
    "    dates.append(article.publish_date)\n",
    "    texts.append(article.text)\n",
    "df = pd.DataFrame({\n",
    "    'Title': titles,\n",
    "    'Authors': authors,\n",
    "    'dates': dates,\n",
    "    'Text': texts,\n",
    "})"
   ]
  },
  {
   "cell_type": "code",
   "execution_count": 3,
   "metadata": {},
   "outputs": [
    {
     "data": {
      "text/html": [
       "<div>\n",
       "<style scoped>\n",
       "    .dataframe tbody tr th:only-of-type {\n",
       "        vertical-align: middle;\n",
       "    }\n",
       "\n",
       "    .dataframe tbody tr th {\n",
       "        vertical-align: top;\n",
       "    }\n",
       "\n",
       "    .dataframe thead th {\n",
       "        text-align: right;\n",
       "    }\n",
       "</style>\n",
       "<table border=\"1\" class=\"dataframe\">\n",
       "  <thead>\n",
       "    <tr style=\"text-align: right;\">\n",
       "      <th></th>\n",
       "      <th>Title</th>\n",
       "      <th>Authors</th>\n",
       "      <th>dates</th>\n",
       "      <th>Text</th>\n",
       "    </tr>\n",
       "  </thead>\n",
       "  <tbody>\n",
       "    <tr>\n",
       "      <th>0</th>\n",
       "      <td>EE.UU. tiene mucho que arreglar en inmigración...</td>\n",
       "      <td>[]</td>\n",
       "      <td>2021-03-12</td>\n",
       "      <td>«Hay tanto que hay que arreglar por el &gt;» que ...</td>\n",
       "    </tr>\n",
       "    <tr>\n",
       "      <th>1</th>\n",
       "      <td>Senadores de Nueva York piden renuncia del gob...</td>\n",
       "      <td>[]</td>\n",
       "      <td>2021-03-12</td>\n",
       "      <td>El líder de la mayoría demócrata en el Senado,...</td>\n",
       "    </tr>\n",
       "    <tr>\n",
       "      <th>2</th>\n",
       "      <td>Henry Cuéllar: Unas horas en la frontera no so...</td>\n",
       "      <td>[]</td>\n",
       "      <td>2021-03-12</td>\n",
       "      <td>«Unas horas en la frontera» no se comparan con...</td>\n",
       "    </tr>\n",
       "    <tr>\n",
       "      <th>3</th>\n",
       "      <td>Nominaciones al Oscar: Netflix podría ser la e...</td>\n",
       "      <td>[]</td>\n",
       "      <td>2021-03-12</td>\n",
       "      <td>Michael Potts, Chadwick Boseman y Colman Domin...</td>\n",
       "    </tr>\n",
       "  </tbody>\n",
       "</table>\n",
       "</div>"
      ],
      "text/plain": [
       "                                               Title Authors      dates  \\\n",
       "0  EE.UU. tiene mucho que arreglar en inmigración...      [] 2021-03-12   \n",
       "1  Senadores de Nueva York piden renuncia del gob...      [] 2021-03-12   \n",
       "2  Henry Cuéllar: Unas horas en la frontera no so...      [] 2021-03-12   \n",
       "3  Nominaciones al Oscar: Netflix podría ser la e...      [] 2021-03-12   \n",
       "\n",
       "                                                Text  \n",
       "0  «Hay tanto que hay que arreglar por el >» que ...  \n",
       "1  El líder de la mayoría demócrata en el Senado,...  \n",
       "2  «Unas horas en la frontera» no se comparan con...  \n",
       "3  Michael Potts, Chadwick Boseman y Colman Domin...  "
      ]
     },
     "execution_count": 3,
     "metadata": {},
     "output_type": "execute_result"
    }
   ],
   "source": [
    "df"
   ]
  },
  {
   "cell_type": "code",
   "execution_count": null,
   "metadata": {},
   "outputs": [],
   "source": []
  }
 ],
 "metadata": {
  "kernelspec": {
   "display_name": "Python 3",
   "language": "python",
   "name": "python3"
  },
  "language_info": {
   "codemirror_mode": {
    "name": "ipython",
    "version": 3
   },
   "file_extension": ".py",
   "mimetype": "text/x-python",
   "name": "python",
   "nbconvert_exporter": "python",
   "pygments_lexer": "ipython3",
   "version": "3.8.5"
  }
 },
 "nbformat": 4,
 "nbformat_minor": 4
}
