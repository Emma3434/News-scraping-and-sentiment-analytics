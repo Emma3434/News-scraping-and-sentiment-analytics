{
 "cells": [
  {
   "cell_type": "markdown",
   "metadata": {},
   "source": [
    "## Code reference:\n",
    "* News scraping\n",
    "    - DataNews documentation: https://datanews.io/docs/news\n",
    "\n",
    "* VADER: \n",
    "    - https://towardsdatascience.com/sentimental-analysis-using-vader-a3415fef7664"
   ]
  },
  {
   "cell_type": "code",
   "execution_count": 1,
   "metadata": {},
   "outputs": [],
   "source": [
    "# Import modules\n",
    "import newspaper\n",
    "from newspaper import Article\n",
    "import requests\n",
    "from bs4 import BeautifulSoup\n",
    "\n",
    "import pandas as pd\n",
    "import numpy as np\n",
    "\n",
    "import datetime as dt\n",
    "\n",
    "from __future__ import (absolute_import, division, print_function, unicode_literals)\n",
    "import backtrader as bt\n",
    "import backtrader.indicators as btind\n",
    "\n",
    "import os.path\n",
    "import sys\n",
    "\n",
    "import time\n",
    "import nltk\n",
    "from nltk.sentiment.vader import SentimentIntensityAnalyzer\n",
    "\n",
    "sid = SentimentIntensityAnalyzer()\n",
    "\n",
    "import matplotlib.pyplot as plt\n",
    "\n",
    "import yfinance as yf\n",
    "\n",
    "import inspect\n",
    "import datanews"
   ]
  },
  {
   "cell_type": "markdown",
   "metadata": {},
   "source": [
    "# News scraping"
   ]
  },
  {
   "cell_type": "code",
   "execution_count": 2,
   "metadata": {},
   "outputs": [],
   "source": [
    "# API setup\n",
    "query = \"Facebook\"\n",
    "ticker = \"FB\"\n",
    "from_date = \"2021-03-12T09:30:00+00:00\"\n",
    "to_date = \"2021-03-12T15:59:00+00:00\"\n",
    "sortBy = \"date\"\n",
    "source = \"marketwatch.com\"\n",
    "topic = \"business\"\n",
    "apiKey = \"4dbc17e007ab436fb66416009dfb59a8\""
   ]
  },
  {
   "cell_type": "code",
   "execution_count": 3,
   "metadata": {
    "scrolled": true
   },
   "outputs": [],
   "source": [
    "# Get the news\n",
    "datanews.api_key = '0bnmoy3ll9lyxacrjlttep15n'\n",
    "response = datanews.news(q = query,\n",
    "                         from_date = from_date,\n",
    "                         to_date = to_date,\n",
    "                         country = ['us'],\n",
    "                         language = ['en'],\n",
    "                         topic = topic,\n",
    "                         sortBy = sortBy,\n",
    "                         #source = source,\n",
    "                         size=100)"
   ]
  },
  {
   "cell_type": "code",
   "execution_count": 4,
   "metadata": {},
   "outputs": [],
   "source": [
    "# Turn the news into dataframe\n",
    "articles = response['hits']\n",
    "df = pd.DataFrame(articles)"
   ]
  },
  {
   "cell_type": "code",
   "execution_count": 5,
   "metadata": {},
   "outputs": [
    {
     "data": {
      "text/html": [
       "<div>\n",
       "<style scoped>\n",
       "    .dataframe tbody tr th:only-of-type {\n",
       "        vertical-align: middle;\n",
       "    }\n",
       "\n",
       "    .dataframe tbody tr th {\n",
       "        vertical-align: top;\n",
       "    }\n",
       "\n",
       "    .dataframe thead th {\n",
       "        text-align: right;\n",
       "    }\n",
       "</style>\n",
       "<table border=\"1\" class=\"dataframe\">\n",
       "  <thead>\n",
       "    <tr style=\"text-align: right;\">\n",
       "      <th></th>\n",
       "      <th>url</th>\n",
       "      <th>source</th>\n",
       "      <th>authors</th>\n",
       "      <th>title</th>\n",
       "      <th>pubDate</th>\n",
       "      <th>country</th>\n",
       "      <th>language</th>\n",
       "      <th>description</th>\n",
       "      <th>imageUrl</th>\n",
       "      <th>content</th>\n",
       "    </tr>\n",
       "  </thead>\n",
       "  <tbody>\n",
       "    <tr>\n",
       "      <th>0</th>\n",
       "      <td>https://www.businessinsider.com/facebook-diver...</td>\n",
       "      <td>businessinsider.com</td>\n",
       "      <td>[Maxine Williams]</td>\n",
       "      <td>Facebook Diversity Chief speaks out on anti-As...</td>\n",
       "      <td>2021-03-12T15:46:48+00:00</td>\n",
       "      <td>us</td>\n",
       "      <td>en</td>\n",
       "      <td>Facebook Diversity Chief speaks out on anti-As...</td>\n",
       "      <td>https://i.insider.com/604924469942cf001865da4a...</td>\n",
       "      <td>\\n• Violence against Asian Americans is on the...</td>\n",
       "    </tr>\n",
       "    <tr>\n",
       "      <th>1</th>\n",
       "      <td>https://www.ibtimes.com/sri-lanka-bristles-ove...</td>\n",
       "      <td>ibtimes.com</td>\n",
       "      <td>[AFP News]</td>\n",
       "      <td>Sri Lanka Bristles Over Chinese Doormats Featu...</td>\n",
       "      <td>2021-03-12T15:45:24+00:00</td>\n",
       "      <td>us</td>\n",
       "      <td>en</td>\n",
       "      <td>Sri Lanka bristles over Chinese doormats featu...</td>\n",
       "      <td>https://s1.ibtimes.com/sites/www.ibtimes.com/f...</td>\n",
       "      <td>Sri Lanka has complained to Beijing over Chine...</td>\n",
       "    </tr>\n",
       "    <tr>\n",
       "      <th>2</th>\n",
       "      <td>https://www.entrepreneur.com/article/365804</td>\n",
       "      <td>entrepreneur.com</td>\n",
       "      <td>[Clair Kim]</td>\n",
       "      <td>Unconventional Ways to Source Diverse Talent</td>\n",
       "      <td>2021-03-12T15:00:00+00:00</td>\n",
       "      <td>us</td>\n",
       "      <td>en</td>\n",
       "      <td>Unconventional Ways to Source Diverse Talent  ...</td>\n",
       "      <td>https://assets.entrepreneur.com/content/3x2/20...</td>\n",
       "      <td>Opinions expressed by Entrepreneur contributor...</td>\n",
       "    </tr>\n",
       "    <tr>\n",
       "      <th>3</th>\n",
       "      <td>https://au.finance.yahoo.com/news/costco-may-b...</td>\n",
       "      <td>au.finance.yahoo.com</td>\n",
       "      <td>[Brian Sozzi]</td>\n",
       "      <td>Costco may be 'poised' to increase membership ...</td>\n",
       "      <td>2021-03-12T14:27:49+00:00</td>\n",
       "      <td>us</td>\n",
       "      <td>en</td>\n",
       "      <td>Costco may be 'poised' to increase membership ...</td>\n",
       "      <td>https://s.yimg.com/ny/api/res/1.2/NCBbtBJ5MeDI...</td>\n",
       "      <td>Costco (COST) may be about to put the burden o...</td>\n",
       "    </tr>\n",
       "    <tr>\n",
       "      <th>4</th>\n",
       "      <td>https://www.reuters.com/article/india-media-re...</td>\n",
       "      <td>reuters.com</td>\n",
       "      <td>[Sankalp Phartiyal]</td>\n",
       "      <td>India's digital media regulation sparks fears ...</td>\n",
       "      <td>2021-03-12T14:21:00+00:00</td>\n",
       "      <td>us</td>\n",
       "      <td>en</td>\n",
       "      <td>India's digital media regulation sparks fears ...</td>\n",
       "      <td>https://static.reuters.com/resources/r/?m=02&amp;d...</td>\n",
       "      <td>NEW DELHI (Reuters) - India’s new oversight of...</td>\n",
       "    </tr>\n",
       "  </tbody>\n",
       "</table>\n",
       "</div>"
      ],
      "text/plain": [
       "                                                 url                source  \\\n",
       "0  https://www.businessinsider.com/facebook-diver...   businessinsider.com   \n",
       "1  https://www.ibtimes.com/sri-lanka-bristles-ove...           ibtimes.com   \n",
       "2        https://www.entrepreneur.com/article/365804      entrepreneur.com   \n",
       "3  https://au.finance.yahoo.com/news/costco-may-b...  au.finance.yahoo.com   \n",
       "4  https://www.reuters.com/article/india-media-re...           reuters.com   \n",
       "\n",
       "               authors                                              title  \\\n",
       "0    [Maxine Williams]  Facebook Diversity Chief speaks out on anti-As...   \n",
       "1           [AFP News]  Sri Lanka Bristles Over Chinese Doormats Featu...   \n",
       "2          [Clair Kim]       Unconventional Ways to Source Diverse Talent   \n",
       "3        [Brian Sozzi]  Costco may be 'poised' to increase membership ...   \n",
       "4  [Sankalp Phartiyal]  India's digital media regulation sparks fears ...   \n",
       "\n",
       "                     pubDate country language  \\\n",
       "0  2021-03-12T15:46:48+00:00      us       en   \n",
       "1  2021-03-12T15:45:24+00:00      us       en   \n",
       "2  2021-03-12T15:00:00+00:00      us       en   \n",
       "3  2021-03-12T14:27:49+00:00      us       en   \n",
       "4  2021-03-12T14:21:00+00:00      us       en   \n",
       "\n",
       "                                         description  \\\n",
       "0  Facebook Diversity Chief speaks out on anti-As...   \n",
       "1  Sri Lanka bristles over Chinese doormats featu...   \n",
       "2  Unconventional Ways to Source Diverse Talent  ...   \n",
       "3  Costco may be 'poised' to increase membership ...   \n",
       "4  India's digital media regulation sparks fears ...   \n",
       "\n",
       "                                            imageUrl  \\\n",
       "0  https://i.insider.com/604924469942cf001865da4a...   \n",
       "1  https://s1.ibtimes.com/sites/www.ibtimes.com/f...   \n",
       "2  https://assets.entrepreneur.com/content/3x2/20...   \n",
       "3  https://s.yimg.com/ny/api/res/1.2/NCBbtBJ5MeDI...   \n",
       "4  https://static.reuters.com/resources/r/?m=02&d...   \n",
       "\n",
       "                                             content  \n",
       "0  \\n• Violence against Asian Americans is on the...  \n",
       "1  Sri Lanka has complained to Beijing over Chine...  \n",
       "2  Opinions expressed by Entrepreneur contributor...  \n",
       "3  Costco (COST) may be about to put the burden o...  \n",
       "4  NEW DELHI (Reuters) - India’s new oversight of...  "
      ]
     },
     "execution_count": 5,
     "metadata": {},
     "output_type": "execute_result"
    }
   ],
   "source": [
    "df.head()"
   ]
  },
  {
   "cell_type": "markdown",
   "metadata": {},
   "source": [
    "# VADER analysis"
   ]
  },
  {
   "cell_type": "code",
   "execution_count": 6,
   "metadata": {},
   "outputs": [
    {
     "data": {
      "text/html": [
       "<div>\n",
       "<style scoped>\n",
       "    .dataframe tbody tr th:only-of-type {\n",
       "        vertical-align: middle;\n",
       "    }\n",
       "\n",
       "    .dataframe tbody tr th {\n",
       "        vertical-align: top;\n",
       "    }\n",
       "\n",
       "    .dataframe thead th {\n",
       "        text-align: right;\n",
       "    }\n",
       "</style>\n",
       "<table border=\"1\" class=\"dataframe\">\n",
       "  <thead>\n",
       "    <tr style=\"text-align: right;\">\n",
       "      <th></th>\n",
       "      <th>compound</th>\n",
       "    </tr>\n",
       "  </thead>\n",
       "  <tbody>\n",
       "    <tr>\n",
       "      <th>0</th>\n",
       "      <td>-0.8481</td>\n",
       "    </tr>\n",
       "    <tr>\n",
       "      <th>1</th>\n",
       "      <td>-0.2500</td>\n",
       "    </tr>\n",
       "    <tr>\n",
       "      <th>2</th>\n",
       "      <td>0.2023</td>\n",
       "    </tr>\n",
       "    <tr>\n",
       "      <th>3</th>\n",
       "      <td>-0.0772</td>\n",
       "    </tr>\n",
       "    <tr>\n",
       "      <th>4</th>\n",
       "      <td>0.0000</td>\n",
       "    </tr>\n",
       "  </tbody>\n",
       "</table>\n",
       "</div>"
      ],
      "text/plain": [
       "   compound\n",
       "0   -0.8481\n",
       "1   -0.2500\n",
       "2    0.2023\n",
       "3   -0.0772\n",
       "4    0.0000"
      ]
     },
     "execution_count": 6,
     "metadata": {},
     "output_type": "execute_result"
    }
   ],
   "source": [
    "# Generate sentiment scores\n",
    "df['scores'] = df['content'].apply(lambda review:sid.polarity_scores(review))\n",
    "df['compound']  = df['scores'].apply(lambda score_dict:score_dict['compound'])\n",
    "df['comp_score'] = df['compound'].apply(lambda c: 'pos' if c >=0 else 'neg')\n",
    "df[['compound']].head()"
   ]
  },
  {
   "cell_type": "markdown",
   "metadata": {},
   "source": [
    "# Combine with stock market"
   ]
  },
  {
   "cell_type": "code",
   "execution_count": 7,
   "metadata": {},
   "outputs": [
    {
     "name": "stdout",
     "output_type": "stream",
     "text": [
      "[*********************100%***********************]  1 of 1 completed\n"
     ]
    },
    {
     "data": {
      "text/html": [
       "<div>\n",
       "<style scoped>\n",
       "    .dataframe tbody tr th:only-of-type {\n",
       "        vertical-align: middle;\n",
       "    }\n",
       "\n",
       "    .dataframe tbody tr th {\n",
       "        vertical-align: top;\n",
       "    }\n",
       "\n",
       "    .dataframe thead th {\n",
       "        text-align: right;\n",
       "    }\n",
       "</style>\n",
       "<table border=\"1\" class=\"dataframe\">\n",
       "  <thead>\n",
       "    <tr style=\"text-align: right;\">\n",
       "      <th></th>\n",
       "      <th>Open</th>\n",
       "      <th>High</th>\n",
       "      <th>Low</th>\n",
       "      <th>Close</th>\n",
       "      <th>Adj Close</th>\n",
       "      <th>Volume</th>\n",
       "    </tr>\n",
       "    <tr>\n",
       "      <th>Datetime</th>\n",
       "      <th></th>\n",
       "      <th></th>\n",
       "      <th></th>\n",
       "      <th></th>\n",
       "      <th></th>\n",
       "      <th></th>\n",
       "    </tr>\n",
       "  </thead>\n",
       "  <tbody>\n",
       "    <tr>\n",
       "      <th>2021-03-12 09:30:00-05:00</th>\n",
       "      <td>268.680115</td>\n",
       "      <td>269.049988</td>\n",
       "      <td>268.680115</td>\n",
       "      <td>268.680115</td>\n",
       "      <td>268.680115</td>\n",
       "      <td>616773</td>\n",
       "    </tr>\n",
       "    <tr>\n",
       "      <th>2021-03-12 09:31:00-05:00</th>\n",
       "      <td>268.820007</td>\n",
       "      <td>268.829987</td>\n",
       "      <td>267.029999</td>\n",
       "      <td>267.910004</td>\n",
       "      <td>267.910004</td>\n",
       "      <td>147236</td>\n",
       "    </tr>\n",
       "    <tr>\n",
       "      <th>2021-03-12 09:32:00-05:00</th>\n",
       "      <td>267.890015</td>\n",
       "      <td>268.184998</td>\n",
       "      <td>267.489990</td>\n",
       "      <td>267.869995</td>\n",
       "      <td>267.869995</td>\n",
       "      <td>149165</td>\n",
       "    </tr>\n",
       "    <tr>\n",
       "      <th>2021-03-12 09:33:00-05:00</th>\n",
       "      <td>268.290009</td>\n",
       "      <td>268.369995</td>\n",
       "      <td>267.929993</td>\n",
       "      <td>268.119995</td>\n",
       "      <td>268.119995</td>\n",
       "      <td>147121</td>\n",
       "    </tr>\n",
       "    <tr>\n",
       "      <th>2021-03-12 09:34:00-05:00</th>\n",
       "      <td>268.000000</td>\n",
       "      <td>268.179993</td>\n",
       "      <td>267.890015</td>\n",
       "      <td>267.994995</td>\n",
       "      <td>267.994995</td>\n",
       "      <td>99214</td>\n",
       "    </tr>\n",
       "  </tbody>\n",
       "</table>\n",
       "</div>"
      ],
      "text/plain": [
       "                                 Open        High         Low       Close  \\\n",
       "Datetime                                                                    \n",
       "2021-03-12 09:30:00-05:00  268.680115  269.049988  268.680115  268.680115   \n",
       "2021-03-12 09:31:00-05:00  268.820007  268.829987  267.029999  267.910004   \n",
       "2021-03-12 09:32:00-05:00  267.890015  268.184998  267.489990  267.869995   \n",
       "2021-03-12 09:33:00-05:00  268.290009  268.369995  267.929993  268.119995   \n",
       "2021-03-12 09:34:00-05:00  268.000000  268.179993  267.890015  267.994995   \n",
       "\n",
       "                            Adj Close  Volume  \n",
       "Datetime                                       \n",
       "2021-03-12 09:30:00-05:00  268.680115  616773  \n",
       "2021-03-12 09:31:00-05:00  267.910004  147236  \n",
       "2021-03-12 09:32:00-05:00  267.869995  149165  \n",
       "2021-03-12 09:33:00-05:00  268.119995  147121  \n",
       "2021-03-12 09:34:00-05:00  267.994995   99214  "
      ]
     },
     "execution_count": 7,
     "metadata": {},
     "output_type": "execute_result"
    }
   ],
   "source": [
    "# Download stock data from yahoo finance\n",
    "data = yf.download(ticker, period = '1d', interval = \"1m\")\n",
    "# data = yf.download(ticker, start=\"2021-03-13\", end=\"2021-03-13\", interval = \"1m\")\n",
    "# data = data.append(yf.download(ticker, start=\"2021-03-08\", end=\"2021-03-13\", interval = \"1m\"))\n",
    "data.head()"
   ]
  },
  {
   "cell_type": "code",
   "execution_count": 15,
   "metadata": {},
   "outputs": [],
   "source": [
    "# Experiment:\n",
    "data['Adj Close'] = data['Adj Close']-data['Adj Close'].shift(1)"
   ]
  },
  {
   "cell_type": "code",
   "execution_count": 16,
   "metadata": {},
   "outputs": [],
   "source": [
    "# Make publish time the index\n",
    "df['time'] = pd.to_datetime(df['pubDate'])\n",
    "df['time'] = df['time'].dt.floor('Min')\n",
    "df['time'] = df['time'].dt.tz_localize(None)\n",
    "df = df.set_index('time')"
   ]
  },
  {
   "cell_type": "code",
   "execution_count": 17,
   "metadata": {},
   "outputs": [],
   "source": [
    "# Make timestamp the index \n",
    "data['Time'] = data.index\n",
    "data['Time'] = data['Time'].dt.tz_localize(None)\n",
    "data = data.set_index('Time')"
   ]
  },
  {
   "cell_type": "code",
   "execution_count": 18,
   "metadata": {},
   "outputs": [
    {
     "data": {
      "text/plain": [
       "0"
      ]
     },
     "execution_count": 18,
     "metadata": {},
     "output_type": "execute_result"
    }
   ],
   "source": [
    "# Inspect the duplicating sentiment scores\n",
    "df['Duplicated'] = df.index.duplicated()\n",
    "len(df[df['Duplicated']==True]['Duplicated'])"
   ]
  },
  {
   "cell_type": "code",
   "execution_count": 19,
   "metadata": {},
   "outputs": [
    {
     "data": {
      "text/html": [
       "<div>\n",
       "<style scoped>\n",
       "    .dataframe tbody tr th:only-of-type {\n",
       "        vertical-align: middle;\n",
       "    }\n",
       "\n",
       "    .dataframe tbody tr th {\n",
       "        vertical-align: top;\n",
       "    }\n",
       "\n",
       "    .dataframe thead th {\n",
       "        text-align: right;\n",
       "    }\n",
       "</style>\n",
       "<table border=\"1\" class=\"dataframe\">\n",
       "  <thead>\n",
       "    <tr style=\"text-align: right;\">\n",
       "      <th></th>\n",
       "      <th>Stock</th>\n",
       "      <th>Sentiment</th>\n",
       "    </tr>\n",
       "    <tr>\n",
       "      <th>Time</th>\n",
       "      <th></th>\n",
       "      <th></th>\n",
       "    </tr>\n",
       "  </thead>\n",
       "  <tbody>\n",
       "    <tr>\n",
       "      <th>2021-03-12 09:30:00</th>\n",
       "      <td>NaN</td>\n",
       "      <td>NaN</td>\n",
       "    </tr>\n",
       "    <tr>\n",
       "      <th>2021-03-12 09:31:00</th>\n",
       "      <td>-0.770111</td>\n",
       "      <td>NaN</td>\n",
       "    </tr>\n",
       "    <tr>\n",
       "      <th>2021-03-12 09:32:00</th>\n",
       "      <td>-0.040009</td>\n",
       "      <td>NaN</td>\n",
       "    </tr>\n",
       "    <tr>\n",
       "      <th>2021-03-12 09:33:00</th>\n",
       "      <td>0.250000</td>\n",
       "      <td>NaN</td>\n",
       "    </tr>\n",
       "    <tr>\n",
       "      <th>2021-03-12 09:34:00</th>\n",
       "      <td>-0.125000</td>\n",
       "      <td>NaN</td>\n",
       "    </tr>\n",
       "  </tbody>\n",
       "</table>\n",
       "</div>"
      ],
      "text/plain": [
       "                        Stock Sentiment\n",
       "Time                                   \n",
       "2021-03-12 09:30:00       NaN       NaN\n",
       "2021-03-12 09:31:00 -0.770111       NaN\n",
       "2021-03-12 09:32:00 -0.040009       NaN\n",
       "2021-03-12 09:33:00  0.250000       NaN\n",
       "2021-03-12 09:34:00 -0.125000       NaN"
      ]
     },
     "execution_count": 19,
     "metadata": {},
     "output_type": "execute_result"
    }
   ],
   "source": [
    "# Combine the stock figure and duplication compounded sentiment scores\n",
    "result = pd.DataFrame()\n",
    "result[\"Stock\"] = data['Adj Close']\n",
    "result[\"Sentiment\"] = df.reset_index().pivot_table(columns=[\"time\"]).T['compound']\n",
    "result.head()"
   ]
  },
  {
   "cell_type": "code",
   "execution_count": 20,
   "metadata": {},
   "outputs": [
    {
     "data": {
      "image/png": "[encoded data removed]",
      "text/plain": [
       "<Figure size 576x432 with 2 Axes>"
      ]
     },
     "metadata": {
      "needs_background": "light"
     },
     "output_type": "display_data"
    }
   ],
   "source": [
    "# Plot the figure\n",
    "fig, ax1 = plt.subplots(figsize=(8, 6))\n",
    "ax2 = ax1.twinx()\n",
    "ax2.grid(color='lightgrey', linestyle='--', linewidth=2)\n",
    "\n",
    "ax1.plot(result[\"Stock\"],color = 'tab:blue')\n",
    "ax2.scatter(x = result.index, y = result[\"Sentiment\"], color = 'tab:orange', marker = \"*\")\n",
    "\n",
    "ax1.set_xlabel('Time')\n",
    "ax1.set_ylabel('Stock', color='tab:blue')\n",
    "ax2.set_ylabel('Sentiment', color='tab:orange')\n",
    "\n",
    "\n",
    "plt.title('{q}: from {f} to {t}'.format(q=query,f=from_date, t=to_date))\n",
    "\n",
    "plt.title('{q}: from {f} to {t}'.format(q=query,f=from_date, t=to_date))\n",
    "plt.savefig('Results/{q} {t}.png'.format(q=query, t=topic))\n",
    "\n",
    "plt.show()"
   ]
  },
  {
   "cell_type": "code",
   "execution_count": 13,
   "metadata": {},
   "outputs": [
    {
     "data": {
      "text/plain": [
       "'https://www.businessinsider.com/facebook-diversity-chief-anti-asian-violence-covid-19-hate-crime2021-3'"
      ]
     },
     "execution_count": 13,
     "metadata": {},
     "output_type": "execute_result"
    }
   ],
   "source": [
    "df[\"url\"][0\n",
    "         ]"
   ]
  },
  {
   "cell_type": "code",
   "execution_count": null,
   "metadata": {},
   "outputs": [],
   "source": []
  }
 ],
 "metadata": {
  "kernelspec": {
   "display_name": "Python 3",
   "language": "python",
   "name": "python3"
  },
  "language_info": {
   "codemirror_mode": {
    "name": "ipython",
    "version": 3
   },
   "file_extension": ".py",
   "mimetype": "text/x-python",
   "name": "python",
   "nbconvert_exporter": "python",
   "pygments_lexer": "ipython3",
   "version": "3.8.5"
  }
 },
 "nbformat": 4,
 "nbformat_minor": 4
}
