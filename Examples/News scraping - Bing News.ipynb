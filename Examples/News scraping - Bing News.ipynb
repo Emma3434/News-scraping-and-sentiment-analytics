{
 "cells": [
  {
   "cell_type": "markdown",
   "metadata": {},
   "source": [
    "# News scraping from Bing News"
   ]
  },
  {
   "cell_type": "markdown",
   "metadata": {},
   "source": [
    "Code reference: https://github.com/miguelfzafra/Latest-News-Classifier\n",
    "\n",
    "News source: https://www.bing.com/news"
   ]
  },
  {
   "cell_type": "code",
   "execution_count": 1,
   "metadata": {},
   "outputs": [],
   "source": [
    "# Import modules\n",
    "import requests\n",
    "from bs4 import BeautifulSoup\n",
    "import numpy as np\n",
    "import pandas as pd"
   ]
  },
  {
   "cell_type": "markdown",
   "metadata": {},
   "source": [
    "# Obtain news from the page"
   ]
  },
  {
   "cell_type": "code",
   "execution_count": 2,
   "metadata": {},
   "outputs": [
    {
     "data": {
      "text/plain": [
       "200"
      ]
     },
     "execution_count": 2,
     "metadata": {},
     "output_type": "execute_result"
    }
   ],
   "source": [
    "# Request, see if success\n",
    "url = \"https://www.bing.com/news\"\n",
    "req = requests.get(url)\n",
    "req.status_code"
   ]
  },
  {
   "cell_type": "code",
   "execution_count": 3,
   "metadata": {
    "scrolled": true
   },
   "outputs": [],
   "source": [
    "# Get the content on the page\n",
    "page = req.content\n",
    "# Soup creation\n",
    "soup = BeautifulSoup(page, 'html5lib')"
   ]
  },
  {
   "cell_type": "code",
   "execution_count": 4,
   "metadata": {
    "scrolled": true
   },
   "outputs": [
    {
     "data": {
      "text/plain": [
       "14"
      ]
     },
     "execution_count": 4,
     "metadata": {},
     "output_type": "execute_result"
    }
   ],
   "source": [
    "# News identification\n",
    "news = soup.find_all('a', class_ = 'title')\n",
    "number_of_articles = len(news)\n",
    "number_of_articles"
   ]
  },
  {
   "cell_type": "code",
   "execution_count": 8,
   "metadata": {
    "scrolled": true
   },
   "outputs": [
    {
     "name": "stdout",
     "output_type": "stream",
     "text": [
      "<a class=\"title\" data-artpy=\"0\" data-author=\"Associated Press\" h=\"ID=news,5263.1\" href=\"https://www.msn.com/en-us/news/politics/ap-fact-check-biden-admin-wrong-on-vaccine-pace-elderly/ar-BB1esKeP?ocid=BingNews\" target=\"_blank\">AP FACT CHECK: Biden admin wrong on vaccine pace, elderly</a>\n"
     ]
    }
   ],
   "source": [
    "# See an example of the structure\n",
    "print(news[1])"
   ]
  },
  {
   "cell_type": "markdown",
   "metadata": {},
   "source": [
    "# Extract text from articles"
   ]
  },
  {
   "cell_type": "code",
   "execution_count": 6,
   "metadata": {},
   "outputs": [],
   "source": [
    "# Empty lists for content, links and titles\n",
    "links_list = []\n",
    "titles_list = []\n",
    "contents_list = []\n",
    "author_list = []\n",
    "\n",
    "for i in np.arange(0, len(news)):\n",
    "    if (news[i]['href'] != ''):\n",
    "        # Get the link for the news article\n",
    "        link= news[i]['href']\n",
    "        links_list.append(link)\n",
    "\n",
    "        # Get the title of the news article\n",
    "        title = news[i].get_text()\n",
    "        titles_list.append(title)\n",
    "\n",
    "        # Get the content of each article\n",
    "        article = requests.get(link)\n",
    "        article_content = article.content\n",
    "        soup_article = BeautifulSoup(article_content, 'html5lib')\n",
    "        x = soup_article.find_all('p')\n",
    "\n",
    "        # Unifying the paragraphs\n",
    "        list_paragraphs = []\n",
    "        for p in np.arange(0, len(x)):\n",
    "            paragraph = x[p].get_text()\n",
    "            list_paragraphs.append(paragraph)\n",
    "            final_article = \" \".join(list_paragraphs)\n",
    "        contents_list.append(final_article)\n",
    "        \n",
    "        # Get the news author\n",
    "        link= news[i]['data-author']\n",
    "        author_list.append(link)"
   ]
  },
  {
   "cell_type": "markdown",
   "metadata": {},
   "source": [
    "# Results"
   ]
  },
  {
   "cell_type": "code",
   "execution_count": 7,
   "metadata": {},
   "outputs": [
    {
     "data": {
      "text/html": [
       "<div>\n",
       "<style scoped>\n",
       "    .dataframe tbody tr th:only-of-type {\n",
       "        vertical-align: middle;\n",
       "    }\n",
       "\n",
       "    .dataframe tbody tr th {\n",
       "        vertical-align: top;\n",
       "    }\n",
       "\n",
       "    .dataframe thead th {\n",
       "        text-align: right;\n",
       "    }\n",
       "</style>\n",
       "<table border=\"1\" class=\"dataframe\">\n",
       "  <thead>\n",
       "    <tr style=\"text-align: right;\">\n",
       "      <th></th>\n",
       "      <th>Title</th>\n",
       "      <th>Author</th>\n",
       "      <th>Content</th>\n",
       "      <th>Link</th>\n",
       "    </tr>\n",
       "  </thead>\n",
       "  <tbody>\n",
       "    <tr>\n",
       "      <th>0</th>\n",
       "      <td>Congress Clears $1.9 Trillion Aid Bill, Sendin...</td>\n",
       "      <td>The New York Times</td>\n",
       "      <td>WASHINGTON — Congress gave final approval on W...</td>\n",
       "      <td>https://www.msn.com/en-us/news/politics/congre...</td>\n",
       "    </tr>\n",
       "    <tr>\n",
       "      <th>1</th>\n",
       "      <td>AP FACT CHECK: Biden admin wrong on vaccine pa...</td>\n",
       "      <td>Associated Press</td>\n",
       "      <td>WASHINGTON (AP) — For an administration that p...</td>\n",
       "      <td>https://www.msn.com/en-us/news/politics/ap-fac...</td>\n",
       "    </tr>\n",
       "    <tr>\n",
       "      <th>2</th>\n",
       "      <td>Trump insists 'something bad happened' in Ga. ...</td>\n",
       "      <td>ABC News</td>\n",
       "      <td>Mexico's Congress approves landmark cannabis b...</td>\n",
       "      <td>https://www.msn.com/en-us/news/politics/trump-...</td>\n",
       "    </tr>\n",
       "    <tr>\n",
       "      <th>3</th>\n",
       "      <td>Joe Manchin on his veto power over Biden agend...</td>\n",
       "      <td>CNN</td>\n",
       "      <td>He's undecided on the nominee to head Health ...</td>\n",
       "      <td>https://www.msn.com/en-us/news/politics/joe-ma...</td>\n",
       "    </tr>\n",
       "    <tr>\n",
       "      <th>4</th>\n",
       "      <td>Texas AG threatens to sue city of Austin for d...</td>\n",
       "      <td>NBC News</td>\n",
       "      <td>Texas Attorney General Ken Paxton threatened W...</td>\n",
       "      <td>https://www.msn.com/en-us/news/us/texas-ag-thr...</td>\n",
       "    </tr>\n",
       "    <tr>\n",
       "      <th>5</th>\n",
       "      <td>LSU president chastised for insufficient punis...</td>\n",
       "      <td>USA TODAY</td>\n",
       "      <td>BATON ROUGE – Enraged Louisiana legislators an...</td>\n",
       "      <td>https://www.msn.com/en-us/news/us/lsu-presiden...</td>\n",
       "    </tr>\n",
       "    <tr>\n",
       "      <th>6</th>\n",
       "      <td>Report: Police chief violated bias policy by m...</td>\n",
       "      <td>Associated Press</td>\n",
       "      <td>LIHUE, Hawaii (AP) — The police chief on the H...</td>\n",
       "      <td>https://www.msn.com/en-us/news/us/report-polic...</td>\n",
       "    </tr>\n",
       "    <tr>\n",
       "      <th>7</th>\n",
       "      <td>Sea turtles, too weak to swim, are coming asho...</td>\n",
       "      <td>USA TODAY</td>\n",
       "      <td>Mexico's Congress approves landmark cannabis b...</td>\n",
       "      <td>https://www.msn.com/en-us/news/us/sea-turtles-...</td>\n",
       "    </tr>\n",
       "    <tr>\n",
       "      <th>8</th>\n",
       "      <td>Report: Cuomo groped female aide in governor's...</td>\n",
       "      <td>Associated Press</td>\n",
       "      <td>ALBANY, N.Y. (AP) — An aide to New York Gov. A...</td>\n",
       "      <td>https://www.msn.com/en-us/news/politics/report...</td>\n",
       "    </tr>\n",
       "    <tr>\n",
       "      <th>9</th>\n",
       "      <td>Senate confirms Marcia Fudge and Michael Regan...</td>\n",
       "      <td>The Guardian</td>\n",
       "      <td>The Senate on Wednesday confirmed Marcia Fudge...</td>\n",
       "      <td>https://www.msn.com/en-us/news/politics/senate...</td>\n",
       "    </tr>\n",
       "    <tr>\n",
       "      <th>10</th>\n",
       "      <td>Mexican lawmakers advance bill to legalize rec...</td>\n",
       "      <td>Associated Press</td>\n",
       "      <td>MEXICO CITY (AP) — Mexico’s lower chamber appr...</td>\n",
       "      <td>https://www.msn.com/en-us/news/world/mexican-l...</td>\n",
       "    </tr>\n",
       "    <tr>\n",
       "      <th>11</th>\n",
       "      <td>Bahrain police beat, threaten detained childre...</td>\n",
       "      <td>Reuters</td>\n",
       "      <td>DUBAI (Reuters) -   Bahraini security forces h...</td>\n",
       "      <td>https://www.msn.com/en-us/news/world/bahrain-p...</td>\n",
       "    </tr>\n",
       "  </tbody>\n",
       "</table>\n",
       "</div>"
      ],
      "text/plain": [
       "                                                Title              Author  \\\n",
       "0   Congress Clears $1.9 Trillion Aid Bill, Sendin...  The New York Times   \n",
       "1   AP FACT CHECK: Biden admin wrong on vaccine pa...    Associated Press   \n",
       "2   Trump insists 'something bad happened' in Ga. ...            ABC News   \n",
       "3   Joe Manchin on his veto power over Biden agend...                 CNN   \n",
       "4   Texas AG threatens to sue city of Austin for d...            NBC News   \n",
       "5   LSU president chastised for insufficient punis...           USA TODAY   \n",
       "6   Report: Police chief violated bias policy by m...    Associated Press   \n",
       "7   Sea turtles, too weak to swim, are coming asho...           USA TODAY   \n",
       "8   Report: Cuomo groped female aide in governor's...    Associated Press   \n",
       "9   Senate confirms Marcia Fudge and Michael Regan...        The Guardian   \n",
       "10  Mexican lawmakers advance bill to legalize rec...    Associated Press   \n",
       "11  Bahrain police beat, threaten detained childre...             Reuters   \n",
       "\n",
       "                                              Content  \\\n",
       "0   WASHINGTON — Congress gave final approval on W...   \n",
       "1   WASHINGTON (AP) — For an administration that p...   \n",
       "2   Mexico's Congress approves landmark cannabis b...   \n",
       "3    He's undecided on the nominee to head Health ...   \n",
       "4   Texas Attorney General Ken Paxton threatened W...   \n",
       "5   BATON ROUGE – Enraged Louisiana legislators an...   \n",
       "6   LIHUE, Hawaii (AP) — The police chief on the H...   \n",
       "7   Mexico's Congress approves landmark cannabis b...   \n",
       "8   ALBANY, N.Y. (AP) — An aide to New York Gov. A...   \n",
       "9   The Senate on Wednesday confirmed Marcia Fudge...   \n",
       "10  MEXICO CITY (AP) — Mexico’s lower chamber appr...   \n",
       "11  DUBAI (Reuters) -   Bahraini security forces h...   \n",
       "\n",
       "                                                 Link  \n",
       "0   https://www.msn.com/en-us/news/politics/congre...  \n",
       "1   https://www.msn.com/en-us/news/politics/ap-fac...  \n",
       "2   https://www.msn.com/en-us/news/politics/trump-...  \n",
       "3   https://www.msn.com/en-us/news/politics/joe-ma...  \n",
       "4   https://www.msn.com/en-us/news/us/texas-ag-thr...  \n",
       "5   https://www.msn.com/en-us/news/us/lsu-presiden...  \n",
       "6   https://www.msn.com/en-us/news/us/report-polic...  \n",
       "7   https://www.msn.com/en-us/news/us/sea-turtles-...  \n",
       "8   https://www.msn.com/en-us/news/politics/report...  \n",
       "9   https://www.msn.com/en-us/news/politics/senate...  \n",
       "10  https://www.msn.com/en-us/news/world/mexican-l...  \n",
       "11  https://www.msn.com/en-us/news/world/bahrain-p...  "
      ]
     },
     "execution_count": 7,
     "metadata": {},
     "output_type": "execute_result"
    }
   ],
   "source": [
    "df = pd.DataFrame(\n",
    "     {'Title': titles_list,\n",
    "      'Author': author_list,\n",
    "      'Content': contents_list,\n",
    "      'Link': links_list\n",
    "    })\n",
    "df"
   ]
  },
  {
   "cell_type": "code",
   "execution_count": null,
   "metadata": {},
   "outputs": [],
   "source": []
  }
 ],
 "metadata": {
  "kernelspec": {
   "display_name": "Python 3",
   "language": "python",
   "name": "python3"
  },
  "language_info": {
   "codemirror_mode": {
    "name": "ipython",
    "version": 3
   },
   "file_extension": ".py",
   "mimetype": "text/x-python",
   "name": "python",
   "nbconvert_exporter": "python",
   "pygments_lexer": "ipython3",
   "version": "3.8.5"
  }
 },
 "nbformat": 4,
 "nbformat_minor": 4
}
