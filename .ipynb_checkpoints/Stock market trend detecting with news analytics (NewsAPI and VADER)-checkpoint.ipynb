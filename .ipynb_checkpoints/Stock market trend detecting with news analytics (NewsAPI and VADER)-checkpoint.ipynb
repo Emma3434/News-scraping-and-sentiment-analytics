{
 "cells": [
  {
   "cell_type": "markdown",
   "metadata": {},
   "source": [
    "## Code reference:\n",
    "* News scraping\n",
    "    - DataNews documentation: https://datanews.io/docs/news\n",
    "\n",
    "* VADER: \n",
    "    - https://towardsdatascience.com/sentimental-analysis-using-vader-a3415fef7664"
   ]
  },
  {
   "cell_type": "code",
   "execution_count": 1,
   "metadata": {},
   "outputs": [],
   "source": [
    "# Import modules\n",
    "import newspaper\n",
    "from newspaper import Article\n",
    "import requests\n",
    "from bs4 import BeautifulSoup\n",
    "\n",
    "import pandas as pd\n",
    "import numpy as np\n",
    "\n",
    "import datetime as dt\n",
    "\n",
    "from __future__ import (absolute_import, division, print_function, unicode_literals)\n",
    "import backtrader as bt\n",
    "import backtrader.indicators as btind\n",
    "\n",
    "import os.path\n",
    "import sys\n",
    "\n",
    "import time\n",
    "import nltk\n",
    "from nltk.sentiment.vader import SentimentIntensityAnalyzer\n",
    "\n",
    "sid = SentimentIntensityAnalyzer()\n",
    "\n",
    "import matplotlib.pyplot as plt\n",
    "\n",
    "import yfinance as yf\n",
    "\n",
    "import inspect\n",
    "import datanews"
   ]
  },
  {
   "cell_type": "markdown",
   "metadata": {},
   "source": [
    "# News scraping"
   ]
  },
  {
   "cell_type": "code",
   "execution_count": 2,
   "metadata": {},
   "outputs": [],
   "source": [
    "# API setup\n",
    "query = \"Amazon\"\n",
    "ticker = \"AMZN\"\n",
    "from_date = \"2021-03-12T09:30:00+00:00\"\n",
    "to_date = \"2021-03-12T15:59:00+00:00\"\n",
    "sortBy = \"date\"\n",
    "source = \"marketwatch.com\"\n",
    "topic = \"business\"\n",
    "apiKey = \"4dbc17e007ab436fb66416009dfb59a8\""
   ]
  },
  {
   "cell_type": "code",
   "execution_count": 3,
   "metadata": {
    "scrolled": true
   },
   "outputs": [],
   "source": [
    "# Get the news\n",
    "datanews.api_key = '0bnmoy3ll9lyxacrjlttep15n'\n",
    "response = datanews.news(q = query,\n",
    "                         from_date = from_date,\n",
    "                         to_date = to_date,\n",
    "                         country = ['us'],\n",
    "                         language = ['en'],\n",
    "                         topic = topic,\n",
    "                         sortBy = sortBy,\n",
    "                         #source = source,\n",
    "                         size=100)"
   ]
  },
  {
   "cell_type": "code",
   "execution_count": 4,
   "metadata": {},
   "outputs": [],
   "source": [
    "# Turn the news into dataframe\n",
    "articles = response['hits']\n",
    "df = pd.DataFrame(articles)"
   ]
  },
  {
   "cell_type": "code",
   "execution_count": 5,
   "metadata": {},
   "outputs": [
    {
     "data": {
      "text/html": [
       "<div>\n",
       "<style scoped>\n",
       "    .dataframe tbody tr th:only-of-type {\n",
       "        vertical-align: middle;\n",
       "    }\n",
       "\n",
       "    .dataframe tbody tr th {\n",
       "        vertical-align: top;\n",
       "    }\n",
       "\n",
       "    .dataframe thead th {\n",
       "        text-align: right;\n",
       "    }\n",
       "</style>\n",
       "<table border=\"1\" class=\"dataframe\">\n",
       "  <thead>\n",
       "    <tr style=\"text-align: right;\">\n",
       "      <th></th>\n",
       "      <th>url</th>\n",
       "      <th>source</th>\n",
       "      <th>authors</th>\n",
       "      <th>title</th>\n",
       "      <th>pubDate</th>\n",
       "      <th>country</th>\n",
       "      <th>language</th>\n",
       "      <th>description</th>\n",
       "      <th>imageUrl</th>\n",
       "      <th>content</th>\n",
       "    </tr>\n",
       "  </thead>\n",
       "  <tbody>\n",
       "    <tr>\n",
       "      <th>0</th>\n",
       "      <td>https://www.ibtimes.com/sri-lanka-bristles-ove...</td>\n",
       "      <td>ibtimes.com</td>\n",
       "      <td>[AFP News]</td>\n",
       "      <td>Sri Lanka Bristles Over Chinese Doormats Featu...</td>\n",
       "      <td>2021-03-12T15:45:24+00:00</td>\n",
       "      <td>us</td>\n",
       "      <td>en</td>\n",
       "      <td>Sri Lanka bristles over Chinese doormats featu...</td>\n",
       "      <td>https://s1.ibtimes.com/sites/www.ibtimes.com/f...</td>\n",
       "      <td>Sri Lanka has complained to Beijing over Chine...</td>\n",
       "    </tr>\n",
       "    <tr>\n",
       "      <th>1</th>\n",
       "      <td>https://uk.finance.yahoo.com/news/marco-rubio-...</td>\n",
       "      <td>uk.finance.yahoo.com</td>\n",
       "      <td>[Brian Heater]</td>\n",
       "      <td>Marco Rubio says he ‘stands with’ Amazon wareh...</td>\n",
       "      <td>2021-03-12T15:15:41+00:00</td>\n",
       "      <td>us</td>\n",
       "      <td>en</td>\n",
       "      <td>Marco Rubio says he ‘stands with’ Amazon wareh...</td>\n",
       "      <td>https://s.yimg.com/uu/api/res/1.2/cnp3ACI0q60A...</td>\n",
       "      <td>Workers at Amazon’s Bessemer, Alabama, warehou...</td>\n",
       "    </tr>\n",
       "    <tr>\n",
       "      <th>2</th>\n",
       "      <td>https://www.businessinsider.com/insiders-top-h...</td>\n",
       "      <td>businessinsider.com</td>\n",
       "      <td>[Lydia Ramsey Pflanzer]</td>\n",
       "      <td>Biden wants all adults to be eligible for the ...</td>\n",
       "      <td>2021-03-12T15:05:10+00:00</td>\n",
       "      <td>us</td>\n",
       "      <td>en</td>\n",
       "      <td>Biden wants all adults to be eligible for the ...</td>\n",
       "      <td>https://i.insider.com/604a72fe9942cf001865ddfd...</td>\n",
       "      <td>Welcome to Insider Healthcare. I'm Lydia Ramse...</td>\n",
       "    </tr>\n",
       "    <tr>\n",
       "      <th>3</th>\n",
       "      <td>https://www.businessinsider.com/job-diary-made...</td>\n",
       "      <td>businessinsider.com</td>\n",
       "      <td>[By Alice Everdeen, as told to Rose Maura Lorre]</td>\n",
       "      <td>How I made almost $10,000 in one month as a fr...</td>\n",
       "      <td>2021-03-12T14:42:46+00:00</td>\n",
       "      <td>us</td>\n",
       "      <td>en</td>\n",
       "      <td>How I made almost $10,000 in one month as a fr...</td>\n",
       "      <td>https://i.insider.com/6048fdaff196be0018bee958...</td>\n",
       "      <td>\\n• After years working in radio and TV, Everd...</td>\n",
       "    </tr>\n",
       "    <tr>\n",
       "      <th>4</th>\n",
       "      <td>https://markets.businessinsider.com/news/stock...</td>\n",
       "      <td>markets.businessinsider.com</td>\n",
       "      <td>[finanzen.net GmbH]</td>\n",
       "      <td>Bernie Sanders is taking on Jeff Bezos again, ...</td>\n",
       "      <td>2021-03-12T14:36:01+00:00</td>\n",
       "      <td>us</td>\n",
       "      <td>en</td>\n",
       "      <td>Bernie Sanders is taking on Jeff Bezos again, ...</td>\n",
       "      <td>https://images2.markets.businessinsider.com/60...</td>\n",
       "      <td>\\n• Sen. Bernie Sanders told the Post that Ama...</td>\n",
       "    </tr>\n",
       "  </tbody>\n",
       "</table>\n",
       "</div>"
      ],
      "text/plain": [
       "                                                 url  \\\n",
       "0  https://www.ibtimes.com/sri-lanka-bristles-ove...   \n",
       "1  https://uk.finance.yahoo.com/news/marco-rubio-...   \n",
       "2  https://www.businessinsider.com/insiders-top-h...   \n",
       "3  https://www.businessinsider.com/job-diary-made...   \n",
       "4  https://markets.businessinsider.com/news/stock...   \n",
       "\n",
       "                        source  \\\n",
       "0                  ibtimes.com   \n",
       "1         uk.finance.yahoo.com   \n",
       "2          businessinsider.com   \n",
       "3          businessinsider.com   \n",
       "4  markets.businessinsider.com   \n",
       "\n",
       "                                            authors  \\\n",
       "0                                        [AFP News]   \n",
       "1                                    [Brian Heater]   \n",
       "2                           [Lydia Ramsey Pflanzer]   \n",
       "3  [By Alice Everdeen, as told to Rose Maura Lorre]   \n",
       "4                               [finanzen.net GmbH]   \n",
       "\n",
       "                                               title  \\\n",
       "0  Sri Lanka Bristles Over Chinese Doormats Featu...   \n",
       "1  Marco Rubio says he ‘stands with’ Amazon wareh...   \n",
       "2  Biden wants all adults to be eligible for the ...   \n",
       "3  How I made almost $10,000 in one month as a fr...   \n",
       "4  Bernie Sanders is taking on Jeff Bezos again, ...   \n",
       "\n",
       "                     pubDate country language  \\\n",
       "0  2021-03-12T15:45:24+00:00      us       en   \n",
       "1  2021-03-12T15:15:41+00:00      us       en   \n",
       "2  2021-03-12T15:05:10+00:00      us       en   \n",
       "3  2021-03-12T14:42:46+00:00      us       en   \n",
       "4  2021-03-12T14:36:01+00:00      us       en   \n",
       "\n",
       "                                         description  \\\n",
       "0  Sri Lanka bristles over Chinese doormats featu...   \n",
       "1  Marco Rubio says he ‘stands with’ Amazon wareh...   \n",
       "2  Biden wants all adults to be eligible for the ...   \n",
       "3  How I made almost $10,000 in one month as a fr...   \n",
       "4  Bernie Sanders is taking on Jeff Bezos again, ...   \n",
       "\n",
       "                                            imageUrl  \\\n",
       "0  https://s1.ibtimes.com/sites/www.ibtimes.com/f...   \n",
       "1  https://s.yimg.com/uu/api/res/1.2/cnp3ACI0q60A...   \n",
       "2  https://i.insider.com/604a72fe9942cf001865ddfd...   \n",
       "3  https://i.insider.com/6048fdaff196be0018bee958...   \n",
       "4  https://images2.markets.businessinsider.com/60...   \n",
       "\n",
       "                                             content  \n",
       "0  Sri Lanka has complained to Beijing over Chine...  \n",
       "1  Workers at Amazon’s Bessemer, Alabama, warehou...  \n",
       "2  Welcome to Insider Healthcare. I'm Lydia Ramse...  \n",
       "3  \\n• After years working in radio and TV, Everd...  \n",
       "4  \\n• Sen. Bernie Sanders told the Post that Ama...  "
      ]
     },
     "execution_count": 5,
     "metadata": {},
     "output_type": "execute_result"
    }
   ],
   "source": [
    "df.head()"
   ]
  },
  {
   "cell_type": "markdown",
   "metadata": {},
   "source": [
    "# VADER analysis"
   ]
  },
  {
   "cell_type": "code",
   "execution_count": 6,
   "metadata": {},
   "outputs": [
    {
     "data": {
      "text/html": [
       "<div>\n",
       "<style scoped>\n",
       "    .dataframe tbody tr th:only-of-type {\n",
       "        vertical-align: middle;\n",
       "    }\n",
       "\n",
       "    .dataframe tbody tr th {\n",
       "        vertical-align: top;\n",
       "    }\n",
       "\n",
       "    .dataframe thead th {\n",
       "        text-align: right;\n",
       "    }\n",
       "</style>\n",
       "<table border=\"1\" class=\"dataframe\">\n",
       "  <thead>\n",
       "    <tr style=\"text-align: right;\">\n",
       "      <th></th>\n",
       "      <th>compound</th>\n",
       "    </tr>\n",
       "  </thead>\n",
       "  <tbody>\n",
       "    <tr>\n",
       "      <th>0</th>\n",
       "      <td>-0.2500</td>\n",
       "    </tr>\n",
       "    <tr>\n",
       "      <th>1</th>\n",
       "      <td>0.6369</td>\n",
       "    </tr>\n",
       "    <tr>\n",
       "      <th>2</th>\n",
       "      <td>0.8126</td>\n",
       "    </tr>\n",
       "    <tr>\n",
       "      <th>3</th>\n",
       "      <td>0.7003</td>\n",
       "    </tr>\n",
       "    <tr>\n",
       "      <th>4</th>\n",
       "      <td>0.2023</td>\n",
       "    </tr>\n",
       "  </tbody>\n",
       "</table>\n",
       "</div>"
      ],
      "text/plain": [
       "   compound\n",
       "0   -0.2500\n",
       "1    0.6369\n",
       "2    0.8126\n",
       "3    0.7003\n",
       "4    0.2023"
      ]
     },
     "execution_count": 6,
     "metadata": {},
     "output_type": "execute_result"
    }
   ],
   "source": [
    "# Generate sentiment scores\n",
    "df['scores'] = df['content'].apply(lambda review:sid.polarity_scores(review))\n",
    "df['compound']  = df['scores'].apply(lambda score_dict:score_dict['compound'])\n",
    "df['comp_score'] = df['compound'].apply(lambda c: 'pos' if c >=0 else 'neg')\n",
    "df[['compound']].head()"
   ]
  },
  {
   "cell_type": "markdown",
   "metadata": {},
   "source": [
    "# Combine with stock market"
   ]
  },
  {
   "cell_type": "code",
   "execution_count": 7,
   "metadata": {},
   "outputs": [
    {
     "name": "stdout",
     "output_type": "stream",
     "text": [
      "[*********************100%***********************]  1 of 1 completed\n"
     ]
    }
   ],
   "source": [
    "# Download stock data from yahoo finance\n",
    "data = yf.download(ticker, period = '1d', interval = \"1m\")\n",
    "# data = yf.download(ticker, start=\"2021-03-13\", end=\"2021-03-13\", interval = \"1m\")\n",
    "# data = data.append(yf.download(ticker, start=\"2021-03-08\", end=\"2021-03-13\", interval = \"1m\"))"
   ]
  },
  {
   "cell_type": "code",
   "execution_count": 8,
   "metadata": {},
   "outputs": [],
   "source": [
    "# Make publish time the index\n",
    "df['time'] = pd.to_datetime(df['pubDate'])\n",
    "df['time'] = df['time'].dt.floor('Min')\n",
    "df['time'] = df['time'].dt.tz_localize(None)\n",
    "df = df.set_index('time')"
   ]
  },
  {
   "cell_type": "code",
   "execution_count": 9,
   "metadata": {},
   "outputs": [],
   "source": [
    "# Make timestamp the index \n",
    "data['Time'] = data.index\n",
    "data['Time'] = data['Time'].dt.tz_localize(None)\n",
    "data = data.set_index('Time')"
   ]
  },
  {
   "cell_type": "code",
   "execution_count": 10,
   "metadata": {},
   "outputs": [
    {
     "data": {
      "text/plain": [
       "0"
      ]
     },
     "execution_count": 10,
     "metadata": {},
     "output_type": "execute_result"
    }
   ],
   "source": [
    "# Inspect the duplicating sentiment scores\n",
    "df['Duplicated'] = df.index.duplicated()\n",
    "len(df[df['Duplicated']==True]['Duplicated'])"
   ]
  },
  {
   "cell_type": "code",
   "execution_count": 11,
   "metadata": {},
   "outputs": [
    {
     "data": {
      "text/html": [
       "<div>\n",
       "<style scoped>\n",
       "    .dataframe tbody tr th:only-of-type {\n",
       "        vertical-align: middle;\n",
       "    }\n",
       "\n",
       "    .dataframe tbody tr th {\n",
       "        vertical-align: top;\n",
       "    }\n",
       "\n",
       "    .dataframe thead th {\n",
       "        text-align: right;\n",
       "    }\n",
       "</style>\n",
       "<table border=\"1\" class=\"dataframe\">\n",
       "  <thead>\n",
       "    <tr style=\"text-align: right;\">\n",
       "      <th></th>\n",
       "      <th>Stock</th>\n",
       "      <th>Sentiment</th>\n",
       "    </tr>\n",
       "    <tr>\n",
       "      <th>Time</th>\n",
       "      <th></th>\n",
       "      <th></th>\n",
       "    </tr>\n",
       "  </thead>\n",
       "  <tbody>\n",
       "    <tr>\n",
       "      <th>2021-03-12 09:30:00</th>\n",
       "      <td>3080.370117</td>\n",
       "      <td>NaN</td>\n",
       "    </tr>\n",
       "    <tr>\n",
       "      <th>2021-03-12 09:31:00</th>\n",
       "      <td>3070.000000</td>\n",
       "      <td>NaN</td>\n",
       "    </tr>\n",
       "    <tr>\n",
       "      <th>2021-03-12 09:32:00</th>\n",
       "      <td>3069.282227</td>\n",
       "      <td>NaN</td>\n",
       "    </tr>\n",
       "    <tr>\n",
       "      <th>2021-03-12 09:33:00</th>\n",
       "      <td>3072.570068</td>\n",
       "      <td>NaN</td>\n",
       "    </tr>\n",
       "    <tr>\n",
       "      <th>2021-03-12 09:34:00</th>\n",
       "      <td>3074.669922</td>\n",
       "      <td>NaN</td>\n",
       "    </tr>\n",
       "  </tbody>\n",
       "</table>\n",
       "</div>"
      ],
      "text/plain": [
       "                           Stock Sentiment\n",
       "Time                                      \n",
       "2021-03-12 09:30:00  3080.370117       NaN\n",
       "2021-03-12 09:31:00  3070.000000       NaN\n",
       "2021-03-12 09:32:00  3069.282227       NaN\n",
       "2021-03-12 09:33:00  3072.570068       NaN\n",
       "2021-03-12 09:34:00  3074.669922       NaN"
      ]
     },
     "execution_count": 11,
     "metadata": {},
     "output_type": "execute_result"
    }
   ],
   "source": [
    "# Combine the stock figure and duplication compounded sentiment scores\n",
    "result = pd.DataFrame()\n",
    "result[\"Stock\"] = data['Adj Close']\n",
    "result[\"Sentiment\"] = df.reset_index().pivot_table(columns=[\"time\"]).T['compound']\n",
    "result.head()"
   ]
  },
  {
   "cell_type": "code",
   "execution_count": 12,
   "metadata": {},
   "outputs": [
    {
     "data": {
      "image/png": "[encoded data removed]",
      "text/plain": [
       "<Figure size 576x432 with 2 Axes>"
      ]
     },
     "metadata": {
      "needs_background": "light"
     },
     "output_type": "display_data"
    }
   ],
   "source": [
    "# Plot the figure\n",
    "fig, ax1 = plt.subplots(figsize=(8, 6))\n",
    "ax2 = ax1.twinx()\n",
    "ax2.grid(color='lightgrey', linestyle='--', linewidth=2)\n",
    "\n",
    "ax1.plot(result[\"Stock\"],color = 'tab:blue')\n",
    "ax2.scatter(x = result.index, y = result[\"Sentiment\"], color = 'tab:orange', marker = \"*\")\n",
    "\n",
    "ax1.set_xlabel('Time')\n",
    "ax1.set_ylabel('Stock', color='tab:blue')\n",
    "ax2.set_ylabel('Sentiment', color='tab:orange')\n",
    "\n",
    "\n",
    "plt.title('{q}: from {f} to {t}'.format(q=query,f=from_date, t=to_date))\n",
    "\n",
    "\n",
    "plt.title('{q}: from {f} to {t}'.format(q=query,f=from_date, t=to_date))\n",
    "plt.savefig('Results/{q}.png'.format(q=query))\n",
    "\n",
    "\n",
    "plt.show()"
   ]
  },
  {
   "cell_type": "code",
   "execution_count": null,
   "metadata": {},
   "outputs": [],
   "source": []
  }
 ],
 "metadata": {
  "kernelspec": {
   "display_name": "Python 3",
   "language": "python",
   "name": "python3"
  },
  "language_info": {
   "codemirror_mode": {
    "name": "ipython",
    "version": 3
   },
   "file_extension": ".py",
   "mimetype": "text/x-python",
   "name": "python",
   "nbconvert_exporter": "python",
   "pygments_lexer": "ipython3",
   "version": "3.8.5"
  }
 },
 "nbformat": 4,
 "nbformat_minor": 4
}
